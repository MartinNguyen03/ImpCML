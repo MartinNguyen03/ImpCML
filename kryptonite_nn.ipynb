{
 "cells": [
  {
   "cell_type": "markdown",
   "metadata": {},
   "source": [
    "## Using neural networks to predict on Kryptonite-9 dataset"
   ]
  },
  {
   "cell_type": "code",
   "execution_count": 1,
   "metadata": {},
   "outputs": [],
   "source": [
    "import numpy as np\n",
    "import os\n",
    "import random\n",
    "import torch\n",
    "from torch import nn\n",
    "from torch.utils.data import DataLoader, TensorDataset\n",
    "from sklearn.model_selection import train_test_split\n",
    "from sklearn.preprocessing import PolynomialFeatures\n",
    "from sklearn.linear_model import LogisticRegression\n",
    "from sklearn.metrics import accuracy_score\n",
    "from itertools import product"
   ]
  },
  {
   "cell_type": "code",
   "execution_count": 2,
   "metadata": {},
   "outputs": [
    {
     "name": "stdout",
     "output_type": "stream",
     "text": [
      "2.5.1+cu118\n",
      "Device: cuda\n"
     ]
    }
   ],
   "source": [
    "print(torch.__version__)\n",
    "device = torch.device('cuda' if torch.cuda.is_available() else 'cpu')\n",
    "print('Device: {0}'.format(device))\n",
    "\n",
    "myseed = 6095 \n",
    "\n",
    "random.seed(myseed)\n",
    "os.environ['PYTHONHASHSEED'] = str(myseed)\n",
    "np.random.seed(myseed)\n",
    "torch.manual_seed(myseed)\n",
    "torch.cuda.manual_seed(myseed)\n",
    "torch.backends.cudnn.deterministic = True\n",
    "torch.backends.cudnn.benchmark = True\n"
   ]
  },
  {
   "cell_type": "code",
   "execution_count": 3,
   "metadata": {},
   "outputs": [],
   "source": [
    "class NeuralNetwork(nn.Module):\n",
    "    def __init__(self, input_size=9, hidden_size=5):\n",
    "        super().__init__()\n",
    "        self.linear_layer_stack = nn.Sequential(\n",
    "            nn.Linear(input_size, hidden_size),\n",
    "            nn.ReLU(),\n",
    "            nn.Linear(hidden_size,hidden_size), \n",
    "            nn.ReLU(),\n",
    "            nn.Linear(hidden_size,1), \n",
    "        ) \n",
    "        self._initialize_weights()  \n",
    "\n",
    "    def _initialize_weights(self):\n",
    "        for layer in self.linear_layer_stack:\n",
    "            if isinstance(layer, nn.Linear):\n",
    "                torch.nn.init.xavier_uniform_(layer.weight)\n",
    "                torch.nn.init.zeros_(layer.bias)\n",
    "\n",
    "\n",
    "    def forward(self, x):\n",
    "        return self.linear_layer_stack(x)"
   ]
  },
  {
   "cell_type": "code",
   "execution_count": 4,
   "metadata": {},
   "outputs": [],
   "source": [
    "\n",
    "\n",
    "\n",
    "# train_size = len(X_train)\n",
    "\n",
    "def train_nn(model, dataloader, criterion, optimizer, epochs=10):\n",
    "    for epoch in range(epochs):\n",
    "        model.train()\n",
    "        epoch_loss = 0\n",
    "        for inputs, labels in dataloader:\n",
    "            inputs, labels = inputs.to(device), labels.unsqueeze(1).to(device)  # Move data to device\n",
    "            \n",
    "            outputs = model(inputs)\n",
    "            loss = criterion(outputs, labels)\n",
    "            \n",
    "            optimizer.zero_grad()\n",
    "            loss.backward()\n",
    "            optimizer.step()\n",
    "            \n",
    "            epoch_loss += loss.item()\n",
    "        \n",
    "        print(f'Epoch {epoch+1}/{epochs}, Loss: {epoch_loss/len(dataloader):.4f}')\n",
    "\n"
   ]
  },
  {
   "cell_type": "markdown",
   "metadata": {},
   "source": [
    "#### Validation"
   ]
  },
  {
   "cell_type": "code",
   "execution_count": 5,
   "metadata": {},
   "outputs": [],
   "source": [
    "def validate_nn(model, X_val, y_val):\n",
    "    model.eval()\n",
    "    with torch.no_grad():\n",
    "        val_outputs = model(X_val.to(device))\n",
    "        val_outputs = torch.round(torch.sigmoid(val_outputs)).cpu().numpy()\n",
    "        accuracy = accuracy_score(y_val, val_outputs)\n",
    "    return accuracy"
   ]
  },
  {
   "cell_type": "markdown",
   "metadata": {},
   "source": [
    "#### Grid Search Hyperparameter Tuning"
   ]
  },
  {
   "cell_type": "code",
   "execution_count": 6,
   "metadata": {},
   "outputs": [],
   "source": [
    "def grid_search(X_train, y_train, X_val, y_val, param_grid, krypto_n):\n",
    "    best_accuracy = 0\n",
    "    best_params = None\n",
    "    best_model = None\n",
    "    \n",
    "    for hidden_size, learning_rate, batch_size, epochs in product(*param_grid.values()):\n",
    "        print(f\"Training with hidden_size={hidden_size}, learning_rate={learning_rate}, batch_size={batch_size}, epochs={epochs}\")\n",
    "        \n",
    "        model = NeuralNetwork(input_size=krypto_n, hidden_size=hidden_size).to(device)\n",
    "        criterion = nn.BCEWithLogitsLoss()\n",
    "        optimizer = torch.optim.Adam(model.parameters(), lr=learning_rate)\n",
    "        \n",
    "        train_dataset = TensorDataset(X_train, y_train)\n",
    "        train_loader = DataLoader(train_dataset, batch_size=batch_size, shuffle=True)\n",
    "        \n",
    "        train_nn(model, train_loader, criterion, optimizer, epochs=epochs)\n",
    "        \n",
    "        accuracy = validate_nn(model, X_val, y_val)\n",
    "        print(f\"Validation Accuracy: {accuracy:.4f}\")\n",
    "        \n",
    "        if accuracy > best_accuracy:\n",
    "            best_accuracy = accuracy\n",
    "            best_params = {'hidden_size': hidden_size, 'learning_rate': learning_rate, \n",
    "                           'batch_size': batch_size, 'epochs': epochs}\n",
    "            best_model = model\n",
    "\n",
    "        print(f\"Current best accuracy: {best_accuracy:.4f}\")\n",
    "\n",
    "    \n",
    "    print(\"Best Parameters:\", best_params)\n",
    "    print(\"Best Validation Accuracy:\", best_accuracy)\n",
    "    print(f\"Krypto variant: {krypto_n}\")\n",
    "    return best_model, best_params"
   ]
  },
  {
   "cell_type": "code",
   "execution_count": 7,
   "metadata": {},
   "outputs": [
    {
     "name": "stdout",
     "output_type": "stream",
     "text": [
      "2.5.1+cu118\n",
      "Device: cuda\n",
      "Training with hidden_size=20, learning_rate=0.007, batch_size=64, epochs=5\n",
      "Epoch 1/5, Loss: 0.6945\n",
      "Epoch 2/5, Loss: 0.6648\n",
      "Epoch 3/5, Loss: 0.4941\n",
      "Epoch 4/5, Loss: 0.3433\n",
      "Epoch 5/5, Loss: 0.2946\n",
      "Validation Accuracy: 0.9156\n",
      "Current best accuracy: 0.9156\n",
      "Best Parameters: {'hidden_size': 20, 'learning_rate': 0.007, 'batch_size': 64, 'epochs': 5}\n",
      "Best Validation Accuracy: 0.9155555555555556\n",
      "Krypto variant: 9\n"
     ]
    }
   ],
   "source": [
    "print(torch.__version__)\n",
    "device = torch.device('cuda' if torch.cuda.is_available() else 'cpu')\n",
    "# device = \"cpu\"\n",
    "print('Device: {0}'.format(device))\n",
    "\n",
    "\n",
    "n = 9\n",
    "X = np.load('Datasets/kryptonite-%s-X.npy'%(n))\n",
    "y = np.load('Datasets/kryptonite-%s-y.npy'%(n))\n",
    "\n",
    "# Shuffle and split the data\n",
    "X_train, X_temp, y_train, y_temp = train_test_split(X, y, test_size=0.6, random_state=myseed)  # 60% training\n",
    "X_val, X_test, y_val, y_test = train_test_split(X_temp, y_temp, test_size=0.5, random_state=myseed)  # 20% validation, 20% test\n",
    "\n",
    "X_train, y_train = torch.tensor(X_train, dtype=torch.float32), torch.tensor(y_train, dtype=torch.float32)\n",
    "X_val, y_val = torch.tensor(X_val, dtype=torch.float32), torch.tensor(y_val, dtype=torch.float32)\n",
    "\n",
    "\n",
    "\n",
    "# param_grid = {\n",
    "#     'hidden_size': [4, 8, 16], \n",
    "#     'learning_rate': [0.001, 0.01 , 0.1], \n",
    "#     'batch_size': [16, 32, 64],     \n",
    "#     'epochs': [5, 10, 20,]              \n",
    "# }\n",
    "\n",
    "\n",
    "param_grid = {\n",
    "    'hidden_size': [20],\n",
    "    'learning_rate': [0.007],\n",
    "    'batch_size': [64],     \n",
    "    'epochs': [5]               \n",
    "}\n",
    "\n",
    "\n",
    "best_model, best_params = grid_search(X_train, y_train, X_val, y_val, param_grid, n)\n",
    "\n",
    "# Current Hyperparameters for each Kryptonite Variant:\n",
    "# Best Parameters: {'hidden_size': 16, 'learning_rate': 0.01, 'batch_size': 64, 'epochs': 20}\n",
    "# Best Validation Accuracy: 0.9084722222222222 (subject to slight fluctuations due to non-deterministic nature of parallel computation used in training)\n",
    "# Krypto variant: 12\n",
    "\n",
    "# Best Parameters: {'hidden_size': 20, 'learning_rate': 0.007, 'batch_size': 64, 'epochs': 5}\n",
    "# Best Validation Accuracy: 0.9538888888888889\n",
    "# Krypto variant: 9\n",
    "\n"
   ]
  },
  {
   "cell_type": "code",
   "execution_count": null,
   "metadata": {},
   "outputs": [],
   "source": []
  },
  {
   "cell_type": "code",
   "execution_count": null,
   "metadata": {},
   "outputs": [],
   "source": []
  }
 ],
 "metadata": {
  "kernelspec": {
   "display_name": ".venv",
   "language": "python",
   "name": "python3"
  },
  "language_info": {
   "codemirror_mode": {
    "name": "ipython",
    "version": 3
   },
   "file_extension": ".py",
   "mimetype": "text/x-python",
   "name": "python",
   "nbconvert_exporter": "python",
   "pygments_lexer": "ipython3",
   "version": "3.12.1"
  }
 },
 "nbformat": 4,
 "nbformat_minor": 2
}
