{
 "cells": [
  {
   "cell_type": "markdown",
   "metadata": {},
   "source": [
    "# Support Vector Machine approach"
   ]
  },
  {
   "cell_type": "code",
   "execution_count": 18,
   "metadata": {},
   "outputs": [],
   "source": [
    "import pandas as pd\n",
    "import numpy as np\n",
    "import torch\n",
    "from torch.utils.data import DataLoader, TensorDataset, random_split\n",
    "import torch.nn as nn\n",
    "import torch.optim as optim\n",
    "\n",
    "from sklearn.preprocessing import StandardScaler\n",
    "from sklearn.model_selection import train_test_split"
   ]
  },
  {
   "cell_type": "code",
   "execution_count": 55,
   "metadata": {},
   "outputs": [
    {
     "name": "stdout",
     "output_type": "stream",
     "text": [
      "Shape of the dataset: (30000, 15)\n",
      "Shape of the dataset: (30000,)\n"
     ]
    }
   ],
   "source": [
    "X = np.load(\"Datasets/kryptonite-15-X.npy\")\n",
    "y = np.load(\"Datasets/kryptonite-15-Y.npy\")\n",
    "\n",
    "print(f\"Shape of the dataset: {X.shape}\")\n",
    "print(f\"Shape of the dataset: {y.shape}\")\n"
   ]
  },
  {
   "cell_type": "code",
   "execution_count": 56,
   "metadata": {},
   "outputs": [],
   "source": [
    "# Split into train and test sets (80% train, 20% test) with stratification\n",
    "X_train, X_test, y_train, y_test = train_test_split(X, y, test_size=0.2, random_state=42, stratify=y)\n",
    "\n",
    "# Scale features\n",
    "scaler = StandardScaler()\n",
    "X_train = scaler.fit_transform(X_train)\n",
    "X_test = scaler.transform(X_test)"
   ]
  },
  {
   "cell_type": "markdown",
   "metadata": {},
   "source": [
    "## SVM on n = 9"
   ]
  },
  {
   "cell_type": "code",
   "execution_count": 49,
   "metadata": {},
   "outputs": [
    {
     "name": "stdout",
     "output_type": "stream",
     "text": [
      "Fitting 5 folds for each of 1 candidates, totalling 5 fits\n",
      "[CV] END ..........................C=10, gamma=1, kernel=rbf; total time=   1.7s\n",
      "[CV] END ..........................C=10, gamma=1, kernel=rbf; total time=   1.6s\n",
      "[CV] END ..........................C=10, gamma=1, kernel=rbf; total time=   1.6s\n",
      "[CV] END ..........................C=10, gamma=1, kernel=rbf; total time=   1.5s\n",
      "[CV] END ..........................C=10, gamma=1, kernel=rbf; total time=   1.6s\n",
      "Best Parameters: {'C': 10, 'gamma': 1, 'kernel': 'rbf'}\n",
      "Best Cross-Validation Score: 0.9495\n",
      "Test Accuracy: 0.9475\n",
      "Classification Report:\n",
      "              precision    recall  f1-score   support\n",
      "\n",
      "           0       0.95      0.95      0.95      1793\n",
      "           1       0.95      0.95      0.95      1807\n",
      "\n",
      "    accuracy                           0.95      3600\n",
      "   macro avg       0.95      0.95      0.95      3600\n",
      "weighted avg       0.95      0.95      0.95      3600\n",
      "\n"
     ]
    }
   ],
   "source": [
    "from sklearn.svm import SVC\n",
    "from sklearn.model_selection import GridSearchCV\n",
    "from sklearn.metrics import classification_report, accuracy_score\n",
    "\n",
    "# Define parameter grid for grid search\n",
    "param_grid = {\n",
    "    'C': [10],\n",
    "    'gamma': [1],\n",
    "    'kernel': ['rbf']\n",
    "}\n",
    "\n",
    "# Perform grid search with 5-fold cross-validation\n",
    "grid_search = GridSearchCV(SVC(class_weight='balanced', random_state=42), param_grid, cv=5, scoring='accuracy', verbose=2)\n",
    "grid_search.fit(X_train, y_train)\n",
    "\n",
    "# Print the best parameters and best cross-validation score\n",
    "print(\"Best Parameters:\", grid_search.best_params_)\n",
    "print(f\"Best Cross-Validation Score: {grid_search.best_score_:.4f}\")\n",
    "\n",
    "# Train the best model on the training data\n",
    "best_model = grid_search.best_estimator_\n",
    "best_model.fit(X_train, y_train)\n",
    "\n",
    "# Predict on the test set\n",
    "y_pred = best_model.predict(X_test)\n",
    "\n",
    "# Evaluate the best model\n",
    "accuracy = accuracy_score(y_test, y_pred)\n",
    "print(f\"Test Accuracy: {accuracy:.4f}\")\n",
    "print(\"Classification Report:\")\n",
    "print(classification_report(y_test, y_pred))"
   ]
  },
  {
   "cell_type": "markdown",
   "metadata": {},
   "source": [
    "## SVM on n=12"
   ]
  },
  {
   "cell_type": "code",
   "execution_count": 52,
   "metadata": {},
   "outputs": [
    {
     "name": "stdout",
     "output_type": "stream",
     "text": [
      "Fitting 5 folds for each of 1 candidates, totalling 5 fits\n",
      "[CV] END ..........................C=10, gamma=1, kernel=rbf; total time=  17.5s\n",
      "[CV] END ..........................C=10, gamma=1, kernel=rbf; total time=  17.6s\n",
      "[CV] END ..........................C=10, gamma=1, kernel=rbf; total time=  17.4s\n",
      "[CV] END ..........................C=10, gamma=1, kernel=rbf; total time=  17.2s\n",
      "[CV] END ..........................C=10, gamma=1, kernel=rbf; total time=  17.5s\n",
      "Best Parameters: {'C': 10, 'gamma': 1, 'kernel': 'rbf'}\n",
      "Best Cross-Validation Score: 0.9135\n",
      "Test Accuracy: 0.9294\n",
      "Classification Report:\n",
      "              precision    recall  f1-score   support\n",
      "\n",
      "           0       0.93      0.93      0.93      2362\n",
      "           1       0.93      0.93      0.93      2438\n",
      "\n",
      "    accuracy                           0.93      4800\n",
      "   macro avg       0.93      0.93      0.93      4800\n",
      "weighted avg       0.93      0.93      0.93      4800\n",
      "\n"
     ]
    }
   ],
   "source": [
    "from sklearn.svm import SVC\n",
    "from sklearn.model_selection import GridSearchCV\n",
    "from sklearn.metrics import classification_report, accuracy_score\n",
    "\n",
    "# Define parameter grid for grid search\n",
    "param_grid = {\n",
    "    'C': [10],\n",
    "    'gamma': [1],\n",
    "    'kernel': ['rbf']\n",
    "}\n",
    "\n",
    "# Perform grid search with 5-fold cross-validation\n",
    "grid_search = GridSearchCV(SVC(class_weight='balanced', random_state=42), param_grid, cv=5, scoring='accuracy', verbose=2)\n",
    "grid_search.fit(X_train, y_train)\n",
    "\n",
    "# Print the best parameters and best cross-validation score\n",
    "print(\"Best Parameters:\", grid_search.best_params_)\n",
    "print(f\"Best Cross-Validation Score: {grid_search.best_score_:.4f}\")\n",
    "\n",
    "# Train the best model on the training data\n",
    "best_model = grid_search.best_estimator_\n",
    "best_model.fit(X_train, y_train)\n",
    "\n",
    "# Predict on the test set\n",
    "y_pred = best_model.predict(X_test)\n",
    "\n",
    "# Evaluate the best model\n",
    "accuracy = accuracy_score(y_test, y_pred)\n",
    "print(f\"Test Accuracy: {accuracy:.4f}\")\n",
    "print(\"Classification Report:\")\n",
    "print(classification_report(y_test, y_pred))"
   ]
  },
  {
   "cell_type": "markdown",
   "metadata": {},
   "source": [
    "## SVM on n=15"
   ]
  },
  {
   "cell_type": "code",
   "execution_count": 60,
   "metadata": {},
   "outputs": [
    {
     "name": "stdout",
     "output_type": "stream",
     "text": [
      "Fitting 5 folds for each of 1 candidates, totalling 5 fits\n",
      "[CV] END .........................C=500, gamma=1, kernel=rbf; total time=  31.5s\n",
      "[CV] END .........................C=500, gamma=1, kernel=rbf; total time=  30.8s\n",
      "[CV] END .........................C=500, gamma=1, kernel=rbf; total time=  31.2s\n",
      "[CV] END .........................C=500, gamma=1, kernel=rbf; total time=  31.1s\n",
      "[CV] END .........................C=500, gamma=1, kernel=rbf; total time=  31.4s\n",
      "Best Parameters: {'C': 500, 'gamma': 1, 'kernel': 'rbf'}\n",
      "Best Cross-Validation Score: 0.5183\n",
      "Test Accuracy: 0.5600\n",
      "Classification Report:\n",
      "              precision    recall  f1-score   support\n",
      "\n",
      "           0       0.56      0.55      0.55      2995\n",
      "           1       0.56      0.57      0.57      3005\n",
      "\n",
      "    accuracy                           0.56      6000\n",
      "   macro avg       0.56      0.56      0.56      6000\n",
      "weighted avg       0.56      0.56      0.56      6000\n",
      "\n"
     ]
    }
   ],
   "source": [
    "from sklearn.svm import SVC\n",
    "from sklearn.model_selection import GridSearchCV\n",
    "from sklearn.metrics import classification_report, accuracy_score\n",
    "\n",
    "# Define parameter grid for grid search\n",
    "param_grid = {\n",
    "    'C': [500],\n",
    "    'gamma': [1],\n",
    "    'kernel': ['rbf']\n",
    "}\n",
    "\n",
    "# Perform grid search with 5-fold cross-validation\n",
    "grid_search = GridSearchCV(SVC(class_weight='balanced', random_state=42), param_grid, cv=5, scoring='accuracy', verbose=2)\n",
    "grid_search.fit(X_train, y_train)\n",
    "\n",
    "# Print the best parameters and best cross-validation score\n",
    "print(\"Best Parameters:\", grid_search.best_params_)\n",
    "print(f\"Best Cross-Validation Score: {grid_search.best_score_:.4f}\")\n",
    "\n",
    "# Train the best model on the training data\n",
    "best_model = grid_search.best_estimator_\n",
    "best_model.fit(X_train, y_train)\n",
    "\n",
    "# Predict on the test set\n",
    "y_pred = best_model.predict(X_test)\n",
    "\n",
    "# Evaluate the best model\n",
    "accuracy = accuracy_score(y_test, y_pred)\n",
    "print(f\"Test Accuracy: {accuracy:.4f}\")\n",
    "print(\"Classification Report:\")\n",
    "print(classification_report(y_test, y_pred))"
   ]
  },
  {
   "cell_type": "markdown",
   "metadata": {},
   "source": [
    "## SVM on n=18"
   ]
  },
  {
   "cell_type": "markdown",
   "metadata": {},
   "source": [
    "## SVM on n=24"
   ]
  },
  {
   "cell_type": "markdown",
   "metadata": {},
   "source": [
    "## SVM on n=30"
   ]
  },
  {
   "cell_type": "markdown",
   "metadata": {},
   "source": [
    "## SVM on n=45"
   ]
  },
  {
   "cell_type": "markdown",
   "metadata": {},
   "source": []
  }
 ],
 "metadata": {
  "kernelspec": {
   "display_name": "Python 3",
   "language": "python",
   "name": "python3"
  },
  "language_info": {
   "codemirror_mode": {
    "name": "ipython",
    "version": 3
   },
   "file_extension": ".py",
   "mimetype": "text/x-python",
   "name": "python",
   "nbconvert_exporter": "python",
   "pygments_lexer": "ipython3",
   "version": "3.11.9"
  }
 },
 "nbformat": 4,
 "nbformat_minor": 2
}
