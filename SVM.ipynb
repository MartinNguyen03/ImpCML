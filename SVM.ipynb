{
 "cells": [
  {
   "cell_type": "markdown",
   "metadata": {},
   "source": [
    "# Support Vector Machine approach"
   ]
  },
  {
   "cell_type": "code",
   "execution_count": 1,
   "metadata": {},
   "outputs": [],
   "source": [
    "import pandas as pd\n",
    "import numpy as np\n",
    "import torch\n",
    "from torch.utils.data import DataLoader, TensorDataset, random_split\n",
    "import torch.nn as nn\n",
    "import torch.optim as optim\n",
    "\n",
    "from sklearn.preprocessing import StandardScaler\n",
    "from sklearn.model_selection import train_test_split"
   ]
  },
  {
   "cell_type": "code",
   "execution_count": 21,
   "metadata": {},
   "outputs": [
    {
     "name": "stdout",
     "output_type": "stream",
     "text": [
      "Shape of the dataset: (36000, 18)\n",
      "Shape of the dataset: (36000,)\n"
     ]
    }
   ],
   "source": [
    "X = np.load(\"Datasets/kryptonite-18-X.npy\")\n",
    "y = np.load(\"Datasets/kryptonite-18-Y.npy\")\n",
    "\n",
    "print(f\"Shape of the dataset: {X.shape}\")\n",
    "print(f\"Shape of the dataset: {y.shape}\")\n"
   ]
  },
  {
   "cell_type": "code",
   "execution_count": 22,
   "metadata": {},
   "outputs": [],
   "source": [
    "# Split into train and test sets (80% train, 20% test) with stratification\n",
    "X_train, X_test, y_train, y_test = train_test_split(X, y, test_size=0.2, random_state=42, stratify=y)\n",
    "\n",
    "# Scale features\n",
    "scaler = StandardScaler()\n",
    "X_train = scaler.fit_transform(X_train)\n",
    "X_test = scaler.transform(X_test)"
   ]
  },
  {
   "cell_type": "markdown",
   "metadata": {},
   "source": [
    "## SVM on n = 9"
   ]
  },
  {
   "cell_type": "code",
   "execution_count": null,
   "metadata": {},
   "outputs": [
    {
     "name": "stdout",
     "output_type": "stream",
     "text": [
      "Fitting 5 folds for each of 27 candidates, totalling 135 fits\n",
      "[CV] END ......................C=0.1, gamma=0.01, kernel=rbf; total time=   3.8s\n",
      "[CV] END ......................C=0.1, gamma=0.01, kernel=rbf; total time=   3.8s\n",
      "[CV] END ......................C=0.1, gamma=0.01, kernel=rbf; total time=   3.7s\n",
      "[CV] END ......................C=0.1, gamma=0.01, kernel=rbf; total time=   3.7s\n",
      "[CV] END ......................C=0.1, gamma=0.01, kernel=rbf; total time=   4.0s\n",
      "[CV] END ......................C=0.1, gamma=0.01, kernel=lin; total time=   0.0s\n",
      "[CV] END ......................C=0.1, gamma=0.01, kernel=lin; total time=   0.0s\n",
      "[CV] END ......................C=0.1, gamma=0.01, kernel=lin; total time=   0.0s\n",
      "[CV] END ......................C=0.1, gamma=0.01, kernel=lin; total time=   0.0s\n",
      "[CV] END ......................C=0.1, gamma=0.01, kernel=lin; total time=   0.0s\n",
      "[CV] END .....................C=0.1, gamma=0.01, kernel=poly; total time=   2.6s\n",
      "[CV] END .....................C=0.1, gamma=0.01, kernel=poly; total time=   2.6s\n",
      "[CV] END .....................C=0.1, gamma=0.01, kernel=poly; total time=   2.6s\n",
      "[CV] END .....................C=0.1, gamma=0.01, kernel=poly; total time=   2.6s\n",
      "[CV] END .....................C=0.1, gamma=0.01, kernel=poly; total time=   2.5s\n",
      "[CV] END .......................C=0.1, gamma=0.1, kernel=rbf; total time=   3.8s\n",
      "[CV] END .......................C=0.1, gamma=0.1, kernel=rbf; total time=   3.7s\n",
      "[CV] END .......................C=0.1, gamma=0.1, kernel=rbf; total time=   3.8s\n",
      "[CV] END .......................C=0.1, gamma=0.1, kernel=rbf; total time=   3.9s\n",
      "[CV] END .......................C=0.1, gamma=0.1, kernel=rbf; total time=   3.9s\n",
      "[CV] END .......................C=0.1, gamma=0.1, kernel=lin; total time=   0.0s\n",
      "[CV] END .......................C=0.1, gamma=0.1, kernel=lin; total time=   0.0s\n",
      "[CV] END .......................C=0.1, gamma=0.1, kernel=lin; total time=   0.0s\n",
      "[CV] END .......................C=0.1, gamma=0.1, kernel=lin; total time=   0.0s\n",
      "[CV] END .......................C=0.1, gamma=0.1, kernel=lin; total time=   0.0s\n",
      "[CV] END ......................C=0.1, gamma=0.1, kernel=poly; total time=   2.9s\n",
      "[CV] END ......................C=0.1, gamma=0.1, kernel=poly; total time=   2.6s\n",
      "[CV] END ......................C=0.1, gamma=0.1, kernel=poly; total time=   2.6s\n",
      "[CV] END ......................C=0.1, gamma=0.1, kernel=poly; total time=   2.6s\n",
      "[CV] END ......................C=0.1, gamma=0.1, kernel=poly; total time=   2.6s\n",
      "[CV] END .........................C=0.1, gamma=1, kernel=rbf; total time=   3.2s\n",
      "[CV] END .........................C=0.1, gamma=1, kernel=rbf; total time=   3.1s\n",
      "[CV] END .........................C=0.1, gamma=1, kernel=rbf; total time=   3.2s\n",
      "[CV] END .........................C=0.1, gamma=1, kernel=rbf; total time=   3.2s\n",
      "[CV] END .........................C=0.1, gamma=1, kernel=rbf; total time=   3.1s\n",
      "[CV] END .........................C=0.1, gamma=1, kernel=lin; total time=   0.0s\n",
      "[CV] END .........................C=0.1, gamma=1, kernel=lin; total time=   0.0s\n",
      "[CV] END .........................C=0.1, gamma=1, kernel=lin; total time=   0.0s\n",
      "[CV] END .........................C=0.1, gamma=1, kernel=lin; total time=   0.0s\n",
      "[CV] END .........................C=0.1, gamma=1, kernel=lin; total time=   0.0s\n",
      "[CV] END ........................C=0.1, gamma=1, kernel=poly; total time=   9.3s\n",
      "[CV] END ........................C=0.1, gamma=1, kernel=poly; total time=   9.0s\n",
      "[CV] END ........................C=0.1, gamma=1, kernel=poly; total time=   9.2s\n",
      "[CV] END ........................C=0.1, gamma=1, kernel=poly; total time=   9.2s\n",
      "[CV] END ........................C=0.1, gamma=1, kernel=poly; total time=   9.2s\n",
      "[CV] END ........................C=1, gamma=0.01, kernel=rbf; total time=   3.8s\n",
      "[CV] END ........................C=1, gamma=0.01, kernel=rbf; total time=   3.8s\n",
      "[CV] END ........................C=1, gamma=0.01, kernel=rbf; total time=   3.7s\n",
      "[CV] END ........................C=1, gamma=0.01, kernel=rbf; total time=   4.1s\n",
      "[CV] END ........................C=1, gamma=0.01, kernel=rbf; total time=   3.7s\n",
      "[CV] END ........................C=1, gamma=0.01, kernel=lin; total time=   0.0s\n",
      "[CV] END ........................C=1, gamma=0.01, kernel=lin; total time=   0.0s\n",
      "[CV] END ........................C=1, gamma=0.01, kernel=lin; total time=   0.0s\n",
      "[CV] END ........................C=1, gamma=0.01, kernel=lin; total time=   0.0s\n",
      "[CV] END ........................C=1, gamma=0.01, kernel=lin; total time=   0.0s\n",
      "[CV] END .......................C=1, gamma=0.01, kernel=poly; total time=   2.6s\n",
      "[CV] END .......................C=1, gamma=0.01, kernel=poly; total time=   2.5s\n",
      "[CV] END .......................C=1, gamma=0.01, kernel=poly; total time=   2.5s\n",
      "[CV] END .......................C=1, gamma=0.01, kernel=poly; total time=   2.8s\n",
      "[CV] END .......................C=1, gamma=0.01, kernel=poly; total time=   2.6s\n",
      "[CV] END .........................C=1, gamma=0.1, kernel=rbf; total time=   3.8s\n",
      "[CV] END .........................C=1, gamma=0.1, kernel=rbf; total time=   3.9s\n",
      "[CV] END .........................C=1, gamma=0.1, kernel=rbf; total time=   3.8s\n",
      "[CV] END .........................C=1, gamma=0.1, kernel=rbf; total time=   4.0s\n",
      "[CV] END .........................C=1, gamma=0.1, kernel=rbf; total time=   4.0s\n",
      "[CV] END .........................C=1, gamma=0.1, kernel=lin; total time=   0.0s\n",
      "[CV] END .........................C=1, gamma=0.1, kernel=lin; total time=   0.0s\n",
      "[CV] END .........................C=1, gamma=0.1, kernel=lin; total time=   0.0s\n",
      "[CV] END .........................C=1, gamma=0.1, kernel=lin; total time=   0.0s\n",
      "[CV] END .........................C=1, gamma=0.1, kernel=lin; total time=   0.0s\n",
      "[CV] END ........................C=1, gamma=0.1, kernel=poly; total time=   2.6s\n",
      "[CV] END ........................C=1, gamma=0.1, kernel=poly; total time=   3.1s\n",
      "[CV] END ........................C=1, gamma=0.1, kernel=poly; total time=   4.1s\n",
      "[CV] END ........................C=1, gamma=0.1, kernel=poly; total time=   2.8s\n",
      "[CV] END ........................C=1, gamma=0.1, kernel=poly; total time=   3.1s\n",
      "[CV] END ...........................C=1, gamma=1, kernel=rbf; total time=   2.1s\n",
      "[CV] END ...........................C=1, gamma=1, kernel=rbf; total time=   2.4s\n",
      "[CV] END ...........................C=1, gamma=1, kernel=rbf; total time=   1.8s\n",
      "[CV] END ...........................C=1, gamma=1, kernel=rbf; total time=   1.6s\n",
      "[CV] END ...........................C=1, gamma=1, kernel=rbf; total time=   1.8s\n",
      "[CV] END ...........................C=1, gamma=1, kernel=lin; total time=   0.0s\n",
      "[CV] END ...........................C=1, gamma=1, kernel=lin; total time=   0.0s\n",
      "[CV] END ...........................C=1, gamma=1, kernel=lin; total time=   0.0s\n",
      "[CV] END ...........................C=1, gamma=1, kernel=lin; total time=   0.0s\n",
      "[CV] END ...........................C=1, gamma=1, kernel=lin; total time=   0.0s\n",
      "[CV] END ..........................C=1, gamma=1, kernel=poly; total time= 1.1min\n",
      "[CV] END ..........................C=1, gamma=1, kernel=poly; total time= 1.1min\n",
      "[CV] END ..........................C=1, gamma=1, kernel=poly; total time= 1.1min\n",
      "[CV] END ..........................C=1, gamma=1, kernel=poly; total time=  56.5s\n",
      "[CV] END ..........................C=1, gamma=1, kernel=poly; total time=  59.8s\n",
      "[CV] END .......................C=10, gamma=0.01, kernel=rbf; total time=   3.8s\n",
      "[CV] END .......................C=10, gamma=0.01, kernel=rbf; total time=   4.0s\n",
      "[CV] END .......................C=10, gamma=0.01, kernel=rbf; total time=   4.1s\n",
      "[CV] END .......................C=10, gamma=0.01, kernel=rbf; total time=   3.9s\n",
      "[CV] END .......................C=10, gamma=0.01, kernel=rbf; total time=   3.8s\n",
      "[CV] END .......................C=10, gamma=0.01, kernel=lin; total time=   0.0s\n",
      "[CV] END .......................C=10, gamma=0.01, kernel=lin; total time=   0.0s\n",
      "[CV] END .......................C=10, gamma=0.01, kernel=lin; total time=   0.0s\n",
      "[CV] END .......................C=10, gamma=0.01, kernel=lin; total time=   0.0s\n",
      "[CV] END .......................C=10, gamma=0.01, kernel=lin; total time=   0.0s\n",
      "[CV] END ......................C=10, gamma=0.01, kernel=poly; total time=   2.9s\n",
      "[CV] END ......................C=10, gamma=0.01, kernel=poly; total time=   2.6s\n",
      "[CV] END ......................C=10, gamma=0.01, kernel=poly; total time=   2.6s\n",
      "[CV] END ......................C=10, gamma=0.01, kernel=poly; total time=   2.6s\n",
      "[CV] END ......................C=10, gamma=0.01, kernel=poly; total time=   2.6s\n",
      "[CV] END ........................C=10, gamma=0.1, kernel=rbf; total time=   4.3s\n",
      "[CV] END ........................C=10, gamma=0.1, kernel=rbf; total time=   4.5s\n",
      "[CV] END ........................C=10, gamma=0.1, kernel=rbf; total time=   4.4s\n",
      "[CV] END ........................C=10, gamma=0.1, kernel=rbf; total time=   4.4s\n",
      "[CV] END ........................C=10, gamma=0.1, kernel=rbf; total time=   4.3s\n",
      "[CV] END ........................C=10, gamma=0.1, kernel=lin; total time=   0.0s\n",
      "[CV] END ........................C=10, gamma=0.1, kernel=lin; total time=   0.0s\n",
      "[CV] END ........................C=10, gamma=0.1, kernel=lin; total time=   0.0s\n",
      "[CV] END ........................C=10, gamma=0.1, kernel=lin; total time=   0.0s\n",
      "[CV] END ........................C=10, gamma=0.1, kernel=lin; total time=   0.0s\n",
      "[CV] END .......................C=10, gamma=0.1, kernel=poly; total time=   3.4s\n",
      "[CV] END .......................C=10, gamma=0.1, kernel=poly; total time=   3.4s\n",
      "[CV] END .......................C=10, gamma=0.1, kernel=poly; total time=   3.3s\n",
      "[CV] END .......................C=10, gamma=0.1, kernel=poly; total time=   3.3s\n",
      "[CV] END .......................C=10, gamma=0.1, kernel=poly; total time=   3.3s\n",
      "[CV] END ..........................C=10, gamma=1, kernel=rbf; total time=   1.6s\n",
      "[CV] END ..........................C=10, gamma=1, kernel=rbf; total time=   1.6s\n",
      "[CV] END ..........................C=10, gamma=1, kernel=rbf; total time=   1.8s\n",
      "[CV] END ..........................C=10, gamma=1, kernel=rbf; total time=   1.6s\n",
      "[CV] END ..........................C=10, gamma=1, kernel=rbf; total time=   1.8s\n",
      "[CV] END ..........................C=10, gamma=1, kernel=lin; total time=   0.0s\n",
      "[CV] END ..........................C=10, gamma=1, kernel=lin; total time=   0.0s\n",
      "[CV] END ..........................C=10, gamma=1, kernel=lin; total time=   0.0s\n",
      "[CV] END ..........................C=10, gamma=1, kernel=lin; total time=   0.0s\n",
      "[CV] END ..........................C=10, gamma=1, kernel=lin; total time=   0.0s\n",
      "[CV] END .........................C=10, gamma=1, kernel=poly; total time= 8.6min\n",
      "[CV] END .........................C=10, gamma=1, kernel=poly; total time= 9.2min\n",
      "[CV] END .........................C=10, gamma=1, kernel=poly; total time= 8.3min\n",
      "[CV] END .........................C=10, gamma=1, kernel=poly; total time= 8.3min\n",
      "[CV] END .........................C=10, gamma=1, kernel=poly; total time= 9.0min\n"
     ]
    },
    {
     "name": "stderr",
     "output_type": "stream",
     "text": [
      "/opt/homebrew/lib/python3.11/site-packages/sklearn/model_selection/_validation.py:540: FitFailedWarning: \n",
      "45 fits failed out of a total of 135.\n",
      "The score on these train-test partitions for these parameters will be set to nan.\n",
      "If these failures are not expected, you can try to debug them by setting error_score='raise'.\n",
      "\n",
      "Below are more details about the failures:\n",
      "--------------------------------------------------------------------------------\n",
      "45 fits failed with the following error:\n",
      "Traceback (most recent call last):\n",
      "  File \"/opt/homebrew/lib/python3.11/site-packages/sklearn/model_selection/_validation.py\", line 888, in _fit_and_score\n",
      "    estimator.fit(X_train, y_train, **fit_params)\n",
      "  File \"/opt/homebrew/lib/python3.11/site-packages/sklearn/base.py\", line 1466, in wrapper\n",
      "    estimator._validate_params()\n",
      "  File \"/opt/homebrew/lib/python3.11/site-packages/sklearn/base.py\", line 666, in _validate_params\n",
      "    validate_parameter_constraints(\n",
      "  File \"/opt/homebrew/lib/python3.11/site-packages/sklearn/utils/_param_validation.py\", line 95, in validate_parameter_constraints\n",
      "    raise InvalidParameterError(\n",
      "sklearn.utils._param_validation.InvalidParameterError: The 'kernel' parameter of SVC must be a str among {'rbf', 'sigmoid', 'precomputed', 'linear', 'poly'} or a callable. Got 'lin' instead.\n",
      "\n",
      "  warnings.warn(some_fits_failed_message, FitFailedWarning)\n",
      "/opt/homebrew/lib/python3.11/site-packages/sklearn/model_selection/_search.py:1052: UserWarning: One or more of the test scores are non-finite: [0.48944444        nan 0.49868056 0.50451389        nan 0.50451389\n",
      " 0.95930556        nan 0.50486111 0.48756944        nan 0.49868056\n",
      " 0.57833333        nan 0.50736111 0.95930556        nan 0.50340278\n",
      " 0.514375          nan 0.49868056 0.89451389        nan 0.50861111\n",
      " 0.94951389        nan 0.50354167]\n",
      "  warnings.warn(\n"
     ]
    },
    {
     "name": "stdout",
     "output_type": "stream",
     "text": [
      "Best Parameters: {'C': 0.1, 'gamma': 1, 'kernel': 'rbf'}\n",
      "Best Cross-Validation Score: 0.9593\n",
      "Test Accuracy: 0.9542\n",
      "Classification Report:\n",
      "              precision    recall  f1-score   support\n",
      "\n",
      "           0       0.95      0.95      0.95      1793\n",
      "           1       0.95      0.95      0.95      1807\n",
      "\n",
      "    accuracy                           0.95      3600\n",
      "   macro avg       0.95      0.95      0.95      3600\n",
      "weighted avg       0.95      0.95      0.95      3600\n",
      "\n"
     ]
    }
   ],
   "source": [
    "from sklearn.svm import SVC\n",
    "from sklearn.model_selection import GridSearchCV\n",
    "from sklearn.metrics import classification_report, accuracy_score\n",
    "\n",
    "# Define parameter grid for grid search\n",
    "param_grid = {\n",
    "    'C': [0.1, 1, 10],\n",
    "    'gamma': [0.01, 0.1, 1],\n",
    "    'kernel': ['rbf', 'lin', 'poly']\n",
    "}\n",
    "\n",
    "# Perform grid search with 5-fold cross-validation\n",
    "grid_search = GridSearchCV(SVC(class_weight='balanced', random_state=42), param_grid, cv=5, scoring='accuracy', verbose=2)\n",
    "grid_search.fit(X_train, y_train)\n",
    "\n",
    "# Print the best parameters and best cross-validation score\n",
    "print(\"Best Parameters:\", grid_search.best_params_)\n",
    "print(f\"Best Cross-Validation Score: {grid_search.best_score_:.4f}\")\n",
    "\n",
    "# Train the best model on the training data\n",
    "best_model = grid_search.best_estimator_\n",
    "best_model.fit(X_train, y_train)\n",
    "\n",
    "# Predict on the test set\n",
    "y_pred = best_model.predict(X_test)\n",
    "\n",
    "# Evaluate the best model\n",
    "accuracy = accuracy_score(y_test, y_pred)\n",
    "print(f\"Test Accuracy: {accuracy:.4f}\")\n",
    "print(\"Classification Report:\")\n",
    "print(classification_report(y_test, y_pred))"
   ]
  },
  {
   "cell_type": "markdown",
   "metadata": {},
   "source": [
    "## SVM on n=12"
   ]
  },
  {
   "cell_type": "code",
   "execution_count": 4,
   "metadata": {},
   "outputs": [
    {
     "name": "stdout",
     "output_type": "stream",
     "text": [
      "Fitting 5 folds for each of 3 candidates, totalling 15 fits\n",
      "[CV] END .........................C=0.1, gamma=1, kernel=rbf; total time=   8.6s\n",
      "[CV] END .........................C=0.1, gamma=1, kernel=rbf; total time=   8.8s\n",
      "[CV] END .........................C=0.1, gamma=1, kernel=rbf; total time=   8.6s\n",
      "[CV] END .........................C=0.1, gamma=1, kernel=rbf; total time=   8.6s\n",
      "[CV] END .........................C=0.1, gamma=1, kernel=rbf; total time=   8.5s\n",
      "[CV] END ...........................C=1, gamma=1, kernel=rbf; total time=  15.5s\n",
      "[CV] END ...........................C=1, gamma=1, kernel=rbf; total time=  16.1s\n",
      "[CV] END ...........................C=1, gamma=1, kernel=rbf; total time=  15.3s\n",
      "[CV] END ...........................C=1, gamma=1, kernel=rbf; total time=  15.7s\n",
      "[CV] END ...........................C=1, gamma=1, kernel=rbf; total time=  15.4s\n",
      "[CV] END ..........................C=10, gamma=1, kernel=rbf; total time=  17.3s\n",
      "[CV] END ..........................C=10, gamma=1, kernel=rbf; total time=  17.3s\n",
      "[CV] END ..........................C=10, gamma=1, kernel=rbf; total time=  17.3s\n",
      "[CV] END ..........................C=10, gamma=1, kernel=rbf; total time=  16.9s\n",
      "[CV] END ..........................C=10, gamma=1, kernel=rbf; total time=  17.0s\n",
      "Best Parameters: {'C': 1, 'gamma': 1, 'kernel': 'rbf'}\n",
      "Best Cross-Validation Score: 0.9297\n",
      "Test Accuracy: 0.9450\n",
      "Classification Report:\n",
      "              precision    recall  f1-score   support\n",
      "\n",
      "           0       0.95      0.94      0.94      2362\n",
      "           1       0.94      0.95      0.95      2438\n",
      "\n",
      "    accuracy                           0.94      4800\n",
      "   macro avg       0.95      0.94      0.94      4800\n",
      "weighted avg       0.95      0.94      0.94      4800\n",
      "\n"
     ]
    }
   ],
   "source": [
    "from sklearn.svm import SVC\n",
    "from sklearn.model_selection import GridSearchCV\n",
    "from sklearn.metrics import classification_report, accuracy_score\n",
    "\n",
    "# Define parameter grid for grid search\n",
    "param_grid = {\n",
    "    'C': [0.1, 1, 10],\n",
    "    'gamma': [1],\n",
    "    'kernel': ['rbf']\n",
    "}\n",
    "\n",
    "# Perform grid search with 5-fold cross-validation\n",
    "grid_search = GridSearchCV(SVC(class_weight='balanced', random_state=42), param_grid, cv=5, scoring='accuracy', verbose=2)\n",
    "grid_search.fit(X_train, y_train)\n",
    "\n",
    "# Print the best parameters and best cross-validation score\n",
    "print(\"Best Parameters:\", grid_search.best_params_)\n",
    "print(f\"Best Cross-Validation Score: {grid_search.best_score_:.4f}\")\n",
    "\n",
    "# Train the best model on the training data\n",
    "best_model = grid_search.best_estimator_\n",
    "best_model.fit(X_train, y_train)\n",
    "\n",
    "# Predict on the test set\n",
    "y_pred = best_model.predict(X_test)\n",
    "\n",
    "# Evaluate the best model\n",
    "accuracy = accuracy_score(y_test, y_pred)\n",
    "print(f\"Test Accuracy: {accuracy:.4f}\")\n",
    "print(\"Classification Report:\")\n",
    "print(classification_report(y_test, y_pred))"
   ]
  },
  {
   "cell_type": "markdown",
   "metadata": {},
   "source": [
    "## SVM on n=15"
   ]
  },
  {
   "cell_type": "code",
   "execution_count": 24,
   "metadata": {},
   "outputs": [
    {
     "name": "stdout",
     "output_type": "stream",
     "text": [
      "Fitting 5 folds for each of 1 candidates, totalling 5 fits\n",
      "[CV] END ..........................C=10, gamma=4, kernel=rbf; total time=  39.5s\n",
      "[CV] END ..........................C=10, gamma=4, kernel=rbf; total time=  36.7s\n",
      "[CV] END ..........................C=10, gamma=4, kernel=rbf; total time=  37.0s\n",
      "[CV] END ..........................C=10, gamma=4, kernel=rbf; total time=  36.7s\n",
      "[CV] END ..........................C=10, gamma=4, kernel=rbf; total time=  39.2s\n",
      "Best Parameters: {'C': 10, 'gamma': 4, 'kernel': 'rbf'}\n",
      "Best Cross-Validation Score: 0.5384\n",
      "Test Accuracy: 0.5490\n",
      "Classification Report:\n",
      "              precision    recall  f1-score   support\n",
      "\n",
      "           0       0.95      0.10      0.18      3594\n",
      "           1       0.53      1.00      0.69      3606\n",
      "\n",
      "    accuracy                           0.55      7200\n",
      "   macro avg       0.74      0.55      0.44      7200\n",
      "weighted avg       0.74      0.55      0.44      7200\n",
      "\n"
     ]
    }
   ],
   "source": [
    "from sklearn.svm import SVC\n",
    "from sklearn.model_selection import GridSearchCV\n",
    "from sklearn.metrics import classification_report, accuracy_score\n",
    "\n",
    "# Define parameter grid for grid search\n",
    "param_grid = {\n",
    "    'C': [10],\n",
    "    'gamma': [4],\n",
    "    'kernel': ['rbf']\n",
    "}\n",
    "\n",
    "# Perform grid search with 5-fold cross-validation\n",
    "grid_search = GridSearchCV(SVC(class_weight='balanced', random_state=42), param_grid, cv=5, scoring='accuracy', verbose=2)\n",
    "grid_search.fit(X_train, y_train)\n",
    "\n",
    "# Print the best parameters and best cross-validation score\n",
    "print(\"Best Parameters:\", grid_search.best_params_)\n",
    "print(f\"Best Cross-Validation Score: {grid_search.best_score_:.4f}\")\n",
    "\n",
    "# Train the best model on the training data\n",
    "best_model = grid_search.best_estimator_\n",
    "best_model.fit(X_train, y_train)\n",
    "\n",
    "# Predict on the test set\n",
    "y_pred = best_model.predict(X_test)\n",
    "\n",
    "# Evaluate the best model\n",
    "accuracy = accuracy_score(y_test, y_pred)\n",
    "print(f\"Test Accuracy: {accuracy:.4f}\")\n",
    "print(\"Classification Report:\")\n",
    "print(classification_report(y_test, y_pred))"
   ]
  },
  {
   "cell_type": "markdown",
   "metadata": {},
   "source": [
    "## SVM on n=18"
   ]
  },
  {
   "cell_type": "code",
   "execution_count": 23,
   "metadata": {},
   "outputs": [
    {
     "name": "stdout",
     "output_type": "stream",
     "text": [
      "Fitting 5 folds for each of 2 candidates, totalling 10 fits\n",
      "[CV] END ...........................C=1, gamma=4, kernel=rbf; total time=  25.1s\n",
      "[CV] END ...........................C=1, gamma=4, kernel=rbf; total time=  29.9s\n",
      "[CV] END ...........................C=1, gamma=4, kernel=rbf; total time=  28.1s\n",
      "[CV] END ...........................C=1, gamma=4, kernel=rbf; total time=  28.3s\n",
      "[CV] END ...........................C=1, gamma=4, kernel=rbf; total time=  39.4s\n",
      "[CV] END ..........................C=10, gamma=4, kernel=rbf; total time=  40.2s\n",
      "[CV] END ..........................C=10, gamma=4, kernel=rbf; total time=  38.9s\n",
      "[CV] END ..........................C=10, gamma=4, kernel=rbf; total time=  37.5s\n",
      "[CV] END ..........................C=10, gamma=4, kernel=rbf; total time=  37.2s\n",
      "[CV] END ..........................C=10, gamma=4, kernel=rbf; total time=  39.3s\n",
      "Best Parameters: {'C': 10, 'gamma': 4, 'kernel': 'rbf'}\n",
      "Best Cross-Validation Score: 0.5384\n",
      "Test Accuracy: 0.5490\n",
      "Classification Report:\n",
      "              precision    recall  f1-score   support\n",
      "\n",
      "           0       0.95      0.10      0.18      3594\n",
      "           1       0.53      1.00      0.69      3606\n",
      "\n",
      "    accuracy                           0.55      7200\n",
      "   macro avg       0.74      0.55      0.44      7200\n",
      "weighted avg       0.74      0.55      0.44      7200\n",
      "\n"
     ]
    }
   ],
   "source": [
    "from sklearn.svm import SVC\n",
    "from sklearn.model_selection import GridSearchCV\n",
    "from sklearn.metrics import classification_report, accuracy_score\n",
    "\n",
    "# Define parameter grid for grid search\n",
    "param_grid = {\n",
    "    'C': [1, 10],\n",
    "    'gamma': [4],\n",
    "    'kernel': ['rbf']\n",
    "}\n",
    "\n",
    "# Perform grid search with 5-fold cross-validation\n",
    "grid_search = GridSearchCV(SVC(class_weight='balanced', random_state=42), param_grid, cv=5, scoring='accuracy', verbose=2)\n",
    "grid_search.fit(X_train, y_train)\n",
    "\n",
    "# Print the best parameters and best cross-validation score\n",
    "print(\"Best Parameters:\", grid_search.best_params_)\n",
    "print(f\"Best Cross-Validation Score: {grid_search.best_score_:.4f}\")\n",
    "\n",
    "# Train the best model on the training data\n",
    "best_model = grid_search.best_estimator_\n",
    "best_model.fit(X_train, y_train)\n",
    "\n",
    "# Predict on the test set\n",
    "y_pred = best_model.predict(X_test)\n",
    "\n",
    "# Evaluate the best model\n",
    "accuracy = accuracy_score(y_test, y_pred)\n",
    "print(f\"Test Accuracy: {accuracy:.4f}\")\n",
    "print(\"Classification Report:\")\n",
    "print(classification_report(y_test, y_pred))"
   ]
  },
  {
   "cell_type": "markdown",
   "metadata": {},
   "source": [
    "## SVM on n=24"
   ]
  },
  {
   "cell_type": "markdown",
   "metadata": {},
   "source": [
    "## SVM on n=30"
   ]
  },
  {
   "cell_type": "markdown",
   "metadata": {},
   "source": [
    "## SVM on n=45"
   ]
  },
  {
   "cell_type": "markdown",
   "metadata": {},
   "source": [
    "# Accuracy line graph"
   ]
  },
  {
   "cell_type": "code",
   "execution_count": 26,
   "metadata": {},
   "outputs": [
    {
     "data": {
      "image/png": "[encoded data removed]",
      "text/plain": [
       "<Figure size 640x480 with 1 Axes>"
      ]
     },
     "metadata": {},
     "output_type": "display_data"
    }
   ],
   "source": [
    "import matplotlib.pyplot as plt\n",
    "\n",
    "\n",
    "x = 9, 12, 15, 18\n",
    "y = 0.9542, 0.9450, 0.7193, 0.5490\n",
    "x2 = 9, 12, 15, 18\n",
    "y2 = 0.95, 0.925, 0.875, 0.8\n",
    "\n",
    "plt.plot(x, y, marker='o')\n",
    "plt.plot(x2, y2, marker='o', linestyle='--', color='r')\n",
    "plt.legend(['SVM', 'Target'])\n",
    "plt.title('SVM Model')\n",
    "plt.xlabel('Feature Dimension of Kyptonite-n (n)')\n",
    "plt.ylabel('Accuracy')\n",
    "plt.grid(True)\n",
    "plt.savefig('svm_accuracy_plot.png')\n",
    "plt.show()\n"
   ]
  },
  {
   "cell_type": "markdown",
   "metadata": {},
   "source": []
  },
  {
   "cell_type": "markdown",
   "metadata": {},
   "source": []
  }
 ],
 "metadata": {
  "kernelspec": {
   "display_name": "Python 3",
   "language": "python",
   "name": "python3"
  },
  "language_info": {
   "codemirror_mode": {
    "name": "ipython",
    "version": 3
   },
   "file_extension": ".py",
   "mimetype": "text/x-python",
   "name": "python",
   "nbconvert_exporter": "python",
   "pygments_lexer": "ipython3",
   "version": "3.11.9"
  }
 },
 "nbformat": 4,
 "nbformat_minor": 2
}
